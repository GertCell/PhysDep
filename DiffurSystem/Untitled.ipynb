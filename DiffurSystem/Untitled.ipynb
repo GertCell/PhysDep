{
 "cells": [
  {
   "cell_type": "code",
   "execution_count": 3,
   "id": "f2bc8909",
   "metadata": {},
   "outputs": [
    {
     "name": "stdout",
     "output_type": "stream",
     "text": [
      "0 1 600\n",
      "998 1998 -999 -1999 1.0 1.0 0 1 600\n"
     ]
    },
    {
     "data": {
      "image/png": "[encoded data removed]",
      "text/plain": [
       "<Figure size 432x288 with 2 Axes>"
      ]
     },
     "metadata": {
      "needs_background": "light"
     },
     "output_type": "display_data"
    }
   ],
   "source": [
    "from math import *\n",
    "import numpy as np\n",
    "import matplotlib.pyplot as plt\n",
    "\n",
    "n = 600\n",
    "t1 = 0\n",
    "t2 = 1\n",
    "alpha = 0.75\n",
    "\n",
    "a = 998\n",
    "b = 1998\n",
    "c = -999\n",
    "d = -1999\n",
    "\"\"\"\n",
    "\n",
    "a = -1\n",
    "b = 0\n",
    "c = 0\n",
    "d = -2\n",
    "\"\"\"\n",
    "\n",
    "f10 = 1.\n",
    "f20 = 1.\n",
    "\n",
    "def f1(x, y, t):\n",
    "    return a*x + b*y\n",
    "def f2(x, y, t):\n",
    "    return c*x + d*y\n",
    "\n",
    "def xe(t):\n",
    "    return 4*np.exp(-t) - 3*np.exp(-1000*t)\n",
    "def ye(t):\n",
    "    return 3*np.exp(-1000*t) - 2*np.exp(-t)\n",
    "\n",
    "\n",
    "def MethodKramer(a, b, c, d, h, f1, f2):\n",
    "    delta = (h*a-1)*(h*d - 1) - h*b*h*c\n",
    "    delta1 = -f1*(h*d - 1) + f2*h*b\n",
    "    delta2 = (h*a - 1)*(-f2) + h*c*f1\n",
    "    \n",
    "    return [delta1/delta, delta2/delta]\n",
    "\n",
    "def MethodEuler(a, b, c, d, f10, f20, t1, t2, n):\n",
    "    x = [f10]\n",
    "    y = [f20]\n",
    "    print (t1, t2, n)\n",
    "    t = np.linspace(t1, t2, n+1)\n",
    "    h = t[1] - t[0]\n",
    "    \n",
    "    for i in range(0, n):\n",
    "        [xi, yi] = MethodKramer(a, b, c, d, h, x[i], y[i])\n",
    "        \n",
    "        x.append(xi)\n",
    "        y.append(yi)\n",
    "        \n",
    "    return [t, x, y]\n",
    "\n",
    "\n",
    "def MethodRunge(f1, f2, f10, f20, t1, t2, n, alpha):\n",
    "    y = [f20]\n",
    "    x = [f10]\n",
    "    t = np.linspace(t1, t2, n+1)\n",
    "    h = t[1] - t[0]\n",
    "    for i in range(0, n):\n",
    "        y.append(y[i] + h*((1-alpha)*f2(*[x[i], y[i], t[i]]) + \n",
    "                 alpha*f2(*[(x[i] + h*0.5/alpha*f1(*[x[i], y[i], t[i]])),\n",
    "                            (y[i] + h*0.5/alpha*f2(*[x[i], y[i], t[i]])), \n",
    "                            (t[i]+h*0.5/alpha)])))\n",
    "        x.append(x[i] + h*((1-alpha)*f1(*[x[i], y[i], t[i]]) + \n",
    "                     alpha*f1(*[(x[i] + h*0.5/alpha*f1(*[x[i], y[i], t[i]])),\n",
    "                                (y[i] + h*0.5/alpha*f2(*[x[i], y[i], t[i]])), \n",
    "                                (t[i]+h*0.5/alpha)])))\n",
    "    return [t, x, y]\n",
    "\n",
    "[t0, x1, y1] = MethodRunge(f1, f2, f10, f20, t1, t2, n, alpha)\n",
    "\n",
    "[t3, x2, y2] = MethodEuler(a, b, c, d, f10, f20, t1, t2, n)\n",
    "\n",
    "print(a, b, c, d, f10, f20, t1, t2, n)\n",
    "\n",
    "plt.subplot(211)\n",
    "#plt.plot(t0, x1 - xe(t1), 'b-', label = 'explicit err x')\n",
    "#plt.xlim(0.1, 1)\n",
    "plt.plot(t0, x1 - xe(t0), 'k-', label = 'explicit err y')\n",
    "#plt.plot(t2, x2 - xe(t2), 'r-', label = 'implicit err x')\n",
    "plt.plot(t3, x2 - xe(t3), 'g-', label = 'implicit err y')\n",
    "plt.legend()\n",
    "plt.subplot(212)\n",
    "#plt.plot(t0, x1, 'k-', label = 'x expl')\n",
    "plt.plot(t0, x1, 'g-', label = 'y expl')\n",
    "#plt.plot(t2, x2, 'b-', label = 'x impl')\n",
    "plt.plot(t3, x2, 'r-', label = 'y impl')\n",
    "plt.legend()\n",
    "plt.show()\n",
    "\n",
    "\n"
   ]
  },
  {
   "cell_type": "code",
   "execution_count": null,
   "id": "9949f294",
   "metadata": {},
   "outputs": [],
   "source": []
  }
 ],
 "metadata": {
  "kernelspec": {
   "display_name": "Python 3 (ipykernel)",
   "language": "python",
   "name": "python3"
  },
  "language_info": {
   "codemirror_mode": {
    "name": "ipython",
    "version": 3
   },
   "file_extension": ".py",
   "mimetype": "text/x-python",
   "name": "python",
   "nbconvert_exporter": "python",
   "pygments_lexer": "ipython3",
   "version": "3.9.12"
  }
 },
 "nbformat": 4,
 "nbformat_minor": 5
}
