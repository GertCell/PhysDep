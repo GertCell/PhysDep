{
 "cells": [
  {
   "cell_type": "code",
   "execution_count": 9,
   "id": "0b6653e6",
   "metadata": {},
   "outputs": [
    {
     "data": {
      "text/plain": [
       "[5.0]"
      ]
     },
     "execution_count": 9,
     "metadata": {},
     "output_type": "execute_result"
    }
   ],
   "source": [
    "import numpy as np\n",
    "from matplotlib import *\n",
    "%matplotlib notebook\n",
    "\n",
    "\n",
    "fx = lambda x, t: np.cos(x)\n",
    "\n",
    "a1 = [1]\n",
    "b1 = [-2]\n",
    "c1 = [1]\n",
    "f1 = [5]\n",
    "\n",
    "def TDMA(a,b,c,f):\n",
    "    a, b, c, f = tuple(map(lambda k_list: list(map(float, k_list)), (a, b, c, f)))\n",
    "\n",
    "    alpha = [-b[0] / c[0]]\n",
    "    beta = [f[0] / c[0]]\n",
    "    n = len(f)\n",
    "    x = [0]*n\n",
    "\n",
    "    for i in range(1, n):\n",
    "        alpha.append(-b[i]/(a[i]*alpha[i-1] + c[i]))\n",
    "        beta.append((f[i] - a[i]*beta[i-1])/(a[i]*alpha[i-1] + c[i]))\n",
    "\n",
    "    x[n-1] = beta[n - 1]\n",
    "\n",
    "    for i in range(n-1, 0, -1):\n",
    "        x[i - 1] = alpha[i - 1]*x[i] + beta[i - 1]\n",
    "\n",
    "    return x\n",
    "\n",
    "\n",
    "TDMA(a1, b1, c1, f1)\n",
    "    \n",
    "\n"
   ]
  },
  {
   "cell_type": "code",
   "execution_count": null,
   "id": "3bafd0e1",
   "metadata": {},
   "outputs": [],
   "source": []
  },
  {
   "cell_type": "code",
   "execution_count": null,
   "id": "4f200dad",
   "metadata": {},
   "outputs": [],
   "source": []
  }
 ],
 "metadata": {
  "kernelspec": {
   "display_name": "Python 3 (ipykernel)",
   "language": "python",
   "name": "python3"
  },
  "language_info": {
   "codemirror_mode": {
    "name": "ipython",
    "version": 3
   },
   "file_extension": ".py",
   "mimetype": "text/x-python",
   "name": "python",
   "nbconvert_exporter": "python",
   "pygments_lexer": "ipython3",
   "version": "3.9.7"
  }
 },
 "nbformat": 4,
 "nbformat_minor": 5
}
