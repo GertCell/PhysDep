{
 "cells": [
  {
   "cell_type": "code",
   "execution_count": 1,
   "id": "f498cc1c",
   "metadata": {},
   "outputs": [
    {
     "name": "stdout",
     "output_type": "stream",
     "text": [
      "sum trapezoid method 0.00020447408107512888\n",
      "sum simpson method -0.00021012858715739602\n"
     ]
    },
    {
     "data": {
      "text/plain": [
       "0"
      ]
     },
     "execution_count": 1,
     "metadata": {},
     "output_type": "execute_result"
    }
   ],
   "source": [
    "# Program checks the equation for Bessel functions\n",
    "\n",
    "import numpy as np\n",
    "\n",
    "\n",
    "def f(t, x, m):  # Bessel function\n",
    "    return 1 / np.pi * (np.cos(m * t - x * np.sin(t)))\n",
    "\n",
    "\n",
    "# Parameters (boundaries)\n",
    "\n",
    "a = 0\n",
    "b = np.pi\n",
    "\n",
    "# Segment splitting\n",
    "\n",
    "n = 8\n",
    "d = (b - a) / n\n",
    "\n",
    "\n",
    "def trapz(x, m):  # Trapezoid integration method\n",
    "    ti = a\n",
    "    ti_1 = ti + d\n",
    "    s1 = (f(ti_1, x, m) + f(ti, x, m)) * d\n",
    "    for i in range(0, n - 1):\n",
    "        ti = ti_1\n",
    "        ti_1 = ti + d\n",
    "        s = s1\n",
    "        s1 = s + (f(ti_1, x, m) + f(ti, x, m)) * d\n",
    "    # print('Trapz result', -s1 / 2)\n",
    "    return -s1/2\n",
    "\n",
    "\n",
    "def simpson(x, m):\n",
    "    ti = a\n",
    "    s1 = 0\n",
    "    for i in range(1, n, 2):\n",
    "        s1 = s1 + 4 * f(ti + i * d, x, m) + 2 * f(ti + (i + 1) * d, x, m)\n",
    "\n",
    "    s1 = s1 - f(b, x, m) * 2\n",
    "    S = d / 3 * (s1 + f(a, x, m) + f(b, x, m))\n",
    "\n",
    "    return S\n",
    "\n",
    "\n",
    "def bessel_trapz():  # Two steps\n",
    "    dx = 0.1\n",
    "    g, g1 = 0, 0\n",
    "    for x in range(0, 100):  # 1st x variable will be given here\n",
    "        g = (trapz(x + dx, 0) - trapz(x - dx, 0)) / 2 / dx  # after cycle took x, it's needed to solve the integral\n",
    "        g1 = trapz(x, 1)\n",
    "    print('sum trapezoid method', g+g1)\n",
    "    return 0\n",
    "\n",
    "\n",
    "def bessel_simpson():  # Principle is the same\n",
    "    dx = 0.1\n",
    "    g, g1 = 0, 0\n",
    "    for x in range(0, 100):\n",
    "        g = (simpson(x + dx, 0) - simpson(x - dx, 0)) / 2 / dx\n",
    "        g1 = simpson(x, 1)\n",
    "    print('sum simpson method', g+g1)\n",
    "    return 0\n",
    "\n",
    "\n",
    "bessel_trapz()\n",
    "bessel_simpson()"
   ]
  },
  {
   "cell_type": "code",
   "execution_count": null,
   "id": "0244dc6b",
   "metadata": {},
   "outputs": [],
   "source": []
  }
 ],
 "metadata": {
  "kernelspec": {
   "display_name": "Python 3 (ipykernel)",
   "language": "python",
   "name": "python3"
  },
  "language_info": {
   "codemirror_mode": {
    "name": "ipython",
    "version": 3
   },
   "file_extension": ".py",
   "mimetype": "text/x-python",
   "name": "python",
   "nbconvert_exporter": "python",
   "pygments_lexer": "ipython3",
   "version": "3.9.12"
  }
 },
 "nbformat": 4,
 "nbformat_minor": 5
}
