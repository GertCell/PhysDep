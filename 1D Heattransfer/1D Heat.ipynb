{
 "cells": [
  {
   "cell_type": "markdown",
   "metadata": {
    "collapsed": true
   },
   "source": [
    "<img src=\"Task.png\" alt=\"drawing\" width=\"800\"/>"
   ]
  },
  {
   "cell_type": "markdown",
   "source": [
    "<img src=\"Coefs.png\" alt=\"drawing\" width=\"600\"/>"
   ],
   "metadata": {
    "collapsed": false
   }
  },
  {
   "cell_type": "code",
   "execution_count": 2,
   "outputs": [],
   "source": [
    "import numpy as np\n",
    "import matplotlib.pyplot as plt\n",
    "%matplotlib inline"
   ],
   "metadata": {
    "collapsed": false
   }
  },
  {
   "cell_type": "code",
   "execution_count": 8,
   "outputs": [
    {
     "ename": "NameError",
     "evalue": "name 'xi' is not defined",
     "output_type": "error",
     "traceback": [
      "\u001B[1;31m---------------------------------------------------------------------------\u001B[0m",
      "\u001B[1;31mNameError\u001B[0m                                 Traceback (most recent call last)",
      "\u001B[1;32m~\\AppData\\Local\\Temp/ipykernel_18748/3868731205.py\u001B[0m in \u001B[0;36m<module>\u001B[1;34m\u001B[0m\n\u001B[0;32m     44\u001B[0m \u001B[0md\u001B[0m \u001B[1;33m=\u001B[0m \u001B[1;33m[\u001B[0m\u001B[1;33m]\u001B[0m\u001B[1;33m\u001B[0m\u001B[1;33m\u001B[0m\u001B[0m\n\u001B[0;32m     45\u001B[0m \u001B[1;32mfor\u001B[0m \u001B[0mi\u001B[0m \u001B[1;32min\u001B[0m \u001B[0mrange\u001B[0m\u001B[1;33m(\u001B[0m\u001B[1;36m0\u001B[0m\u001B[1;33m,\u001B[0m \u001B[0mn\u001B[0m\u001B[1;33m)\u001B[0m\u001B[1;33m:\u001B[0m\u001B[1;33m\u001B[0m\u001B[1;33m\u001B[0m\u001B[0m\n\u001B[1;32m---> 46\u001B[1;33m     \u001B[0md\u001B[0m\u001B[1;33m.\u001B[0m\u001B[0mappend\u001B[0m\u001B[1;33m(\u001B[0m\u001B[0mxi\u001B[0m \u001B[1;33m+\u001B[0m \u001B[0mt\u001B[0m\u001B[1;33m/\u001B[0m\u001B[1;36m2\u001B[0m\u001B[1;33m*\u001B[0m\u001B[1;33m(\u001B[0m\u001B[1;33m)\u001B[0m\u001B[1;33m)\u001B[0m\u001B[1;33m\u001B[0m\u001B[1;33m\u001B[0m\u001B[0m\n\u001B[0m\u001B[0;32m     47\u001B[0m \u001B[1;33m\u001B[0m\u001B[0m\n\u001B[0;32m     48\u001B[0m \u001B[1;31m#print (a, b, c)\u001B[0m\u001B[1;33m\u001B[0m\u001B[1;33m\u001B[0m\u001B[0m\n",
      "\u001B[1;31mNameError\u001B[0m: name 'xi' is not defined"
     ]
    }
   ],
   "source": [
    "import numpy as np\n",
    "from matplotlib.pyplot import *\n",
    "%matplotlib notebook\n",
    "\n",
    "f = lambda x: np.cos(x)\n",
    "\n",
    "\n",
    "n = 200\n",
    "\n",
    "Nt = 400\n",
    "Tf = 5\n",
    "x1 = -np.pi/2\n",
    "x2 = np.pi/2\n",
    "#x2 = 1\n",
    "T = np.linspace(0,Tf, Nt-2)\n",
    "x = np.linspace(x1, x2, n+2, True)\n",
    "h = x[1] - x[0]\n",
    "t = T[1] - T[0]\n",
    "\n",
    "#[b c 0 ... 0]   [h**2 * f(x[1])]\n",
    "#[a b c ... 0]   [h**2 * f(x[2])]\n",
    "#[0 a c b . 0] = [h**2 * f(x[3])]\n",
    "#[  ...      ]   [h**2 * f(x[4])]\n",
    "#[0 ... 0 a b]   [h**2 * f(x[5])]\n",
    "\n",
    "a = [0]\n",
    "for i in range(1, n):\n",
    "    a.append(-1/2*t/h/h)\n",
    "\n",
    "b = []\n",
    "for i in range(0, n):\n",
    "    b.append(1 + t/h/h)\n",
    "\n",
    "c = []\n",
    "for i in range(0, n-1):\n",
    "    c.append(-1/2*t/h/h)\n",
    "c.append(0.)\n",
    "\n",
    "h = x[1] - x[0]\n",
    "\n",
    "# правая часть уравнения (столб) h**2 берем из конечной разницы второго порядка\n",
    "# пересчет производится с подстановкой значения x в сетке которую ранее задал выше\n",
    "\n",
    "d = []\n",
    "for i in range(0, n):\n",
    "    d.append(xi + t/2*())\n",
    "\n",
    "#print (a, b, c)\n",
    "\n",
    "\n",
    "def CoefficientMethod(a, b, c, d, n):\n",
    "    y = []\n",
    "    for i in range(0, n):\n",
    "        y.append(0)\n",
    "\n",
    "    for i in range(1, n):\n",
    "        xi = a[i]/b[i-1]\n",
    "        a[i] = 0\n",
    "        b[i] -= xi * c[i-1]\n",
    "        d[i] -= xi * d[i-1]\n",
    "\n",
    "        #print (a, b, c)\n",
    "\n",
    "    y[n-1] = d[n-1]/b[n-1]\n",
    "\n",
    "    for i in range(n-2, -1, -1):\n",
    "        y[i] = 1/b[i] * (d[i] - c[i]*y[i+1])\n",
    "\n",
    "    return y\n",
    "\n",
    "y = [0] + CoefficientMethod(a, b, c, d, n) + [0]\n",
    "\n",
    "subplot(111)\n",
    "ln1, = plot(x, y, 'r-', label = 'solution')\n",
    "ln2, = plot(x, (y + np.sin(x)), 'b-', label = 'err')\n",
    "grid()\n",
    "legend()\n",
    "gcf().canvas.draw()\n",
    "\n",
    "\n"
   ],
   "metadata": {
    "collapsed": false
   }
  },
  {
   "cell_type": "markdown",
   "source": [
    "Задам отдельно оператор разностной схемы для переменного массива\n",
    "<img src=\"Differential_op.png\" alt=\"drawing\" width=\"500\"/>\n",
    "Вводим работу с двумерным массивом\n",
    "A[i, j]"
   ],
   "metadata": {
    "collapsed": false
   }
  },
  {
   "cell_type": "code",
   "execution_count": 3,
   "outputs": [],
   "source": [
    "def L(A, delta, m, j):\n",
    "    return (A[m, j+1] - 2 * A[m, j] + A[m, j-1]) / 2 * delta\n"
   ],
   "metadata": {
    "collapsed": false
   }
  },
  {
   "cell_type": "code",
   "execution_count": 4,
   "outputs": [],
   "source": [
    "H = 1\n",
    "time = 5\n",
    "\n",
    "Nx = 100\n",
    "Nt = 100"
   ],
   "metadata": {
    "collapsed": false
   }
  },
  {
   "cell_type": "code",
   "source": [
    "#Ввод двумерных массивов и области решетки\n",
    "U = np.array([],[])\n",
    "\n",
    "x = np.linspace(0, H, Nx)\n",
    "t = np.linspace(0, time, Nt)\n"
   ],
   "metadata": {
    "collapsed": false
   },
   "execution_count": 5,
   "outputs": []
  },
  {
   "cell_type": "code",
   "execution_count": 6,
   "outputs": [
    {
     "ename": "NameError",
     "evalue": "name 'T' is not defined",
     "output_type": "error",
     "traceback": [
      "\u001B[1;31m---------------------------------------------------------------------------\u001B[0m",
      "\u001B[1;31mNameError\u001B[0m                                 Traceback (most recent call last)",
      "Cell \u001B[1;32mIn [6], line 13\u001B[0m\n\u001B[0;32m     10\u001B[0m \u001B[38;5;66;03m#x2 = 1\u001B[39;00m\n\u001B[0;32m     12\u001B[0m h \u001B[38;5;241m=\u001B[39m x[\u001B[38;5;241m1\u001B[39m] \u001B[38;5;241m-\u001B[39m x[\u001B[38;5;241m0\u001B[39m]\n\u001B[1;32m---> 13\u001B[0m th \u001B[38;5;241m=\u001B[39m \u001B[43mT\u001B[49m[\u001B[38;5;241m1\u001B[39m] \u001B[38;5;241m-\u001B[39m T[\u001B[38;5;241m0\u001B[39m]\n",
      "\u001B[1;31mNameError\u001B[0m: name 'T' is not defined"
     ]
    }
   ],
   "source": [
    "f = lambda x: np.cos(x)\n",
    "\n",
    "\n",
    "n = 200\n",
    "\n",
    "Nt = 400\n",
    "Tf = 5\n",
    "x1 = -np.pi/2\n",
    "x2 = np.pi/2\n",
    "#x2 = 1\n",
    "\n",
    "h = x[1] - x[0]\n"
   ],
   "metadata": {
    "collapsed": false
   }
  },
  {
   "cell_type": "code",
   "execution_count": 7,
   "outputs": [],
   "source": [
    "U = np.zeros( (int(Nt), int(n)))\n",
    "\n",
    "a = [0]\n",
    "for i in range(1, n):\n",
    "    a.append(-1/2*t/h/h)\n",
    "\n",
    "b = []\n",
    "for i in range(0, n):\n",
    "    b.append(1 + t/h/h)\n",
    "\n",
    "c = []\n",
    "for i in range(0, n-1):\n",
    "    c.append(-1/2*t/h/h)\n",
    "c.append(0.)\n",
    "\n",
    "\n",
    "\n"
   ],
   "metadata": {
    "collapsed": false
   }
  },
  {
   "cell_type": "code",
   "execution_count": 8,
   "outputs": [],
   "source": [
    "def CoefficientMethod(a, b, c, nt, nx):\n",
    "    U = np.zeros( (int(nt), int(nx)))\n",
    "    d = np.zeros(int(nx))\n",
    "    for i in range(nx):\n",
    "        U[0,i] = x[i]*(1-x[i])**2\n",
    "    for k in range(1, nx-1):\n",
    "        d[k] = U[0, k] + t/2*(L(U, h, 0, k))\n",
    "\n",
    "    for i in range(0, nt-1):\n",
    "        for k in range(1, nx-1):\n",
    "            d[k] = U[i, k] + t/2*(L(U, h, i, k))\n",
    "\n",
    "        for j in range(1, nx-2):\n",
    "\n",
    "            xi = a[j]/b[j-1]\n",
    "            a[j] = 0\n",
    "            b[j] -= xi * c[j-1]\n",
    "            d[j] -= xi * d[j-1]\n",
    "\n",
    "            #print (a, b, c)\n",
    "\n",
    "        U[i, nx-3] = d[nx-3]/b[nx-3]\n",
    "        print(U)\n",
    "        for j in range(nx-4, -1, -1):\n",
    "            U[i,j] = 1/b[j] * (d[j] - c[j]*U[i,j+1])\n",
    "\n",
    "    return U"
   ],
   "metadata": {
    "collapsed": false
   }
  },
  {
   "cell_type": "code",
   "execution_count": 9,
   "outputs": [
    {
     "ename": "IndexError",
     "evalue": "index 100 is out of bounds for axis 0 with size 100",
     "output_type": "error",
     "traceback": [
      "\u001B[1;31m---------------------------------------------------------------------------\u001B[0m",
      "\u001B[1;31mIndexError\u001B[0m                                Traceback (most recent call last)",
      "Cell \u001B[1;32mIn [9], line 2\u001B[0m\n\u001B[0;32m      1\u001B[0m \u001B[38;5;66;03m#Основная функция прогонки\u001B[39;00m\n\u001B[1;32m----> 2\u001B[0m \u001B[43mCoefficientMethod\u001B[49m\u001B[43m(\u001B[49m\u001B[43ma\u001B[49m\u001B[43m,\u001B[49m\u001B[43m \u001B[49m\u001B[43mb\u001B[49m\u001B[43m,\u001B[49m\u001B[43m \u001B[49m\u001B[43mc\u001B[49m\u001B[43m,\u001B[49m\u001B[43m \u001B[49m\u001B[43mNt\u001B[49m\u001B[43m,\u001B[49m\u001B[43m \u001B[49m\u001B[43mn\u001B[49m\u001B[43m)\u001B[49m\n\u001B[0;32m      3\u001B[0m plt\u001B[38;5;241m.\u001B[39mplot(U)\n\u001B[0;32m      4\u001B[0m plt\u001B[38;5;241m.\u001B[39mshow()\n",
      "Cell \u001B[1;32mIn [8], line 5\u001B[0m, in \u001B[0;36mCoefficientMethod\u001B[1;34m(a, b, c, nt, nx)\u001B[0m\n\u001B[0;32m      3\u001B[0m d \u001B[38;5;241m=\u001B[39m np\u001B[38;5;241m.\u001B[39mzeros(\u001B[38;5;28mint\u001B[39m(nx))\n\u001B[0;32m      4\u001B[0m \u001B[38;5;28;01mfor\u001B[39;00m i \u001B[38;5;129;01min\u001B[39;00m \u001B[38;5;28mrange\u001B[39m(nx):\n\u001B[1;32m----> 5\u001B[0m     U[\u001B[38;5;241m0\u001B[39m,i] \u001B[38;5;241m=\u001B[39m \u001B[43mx\u001B[49m\u001B[43m[\u001B[49m\u001B[43mi\u001B[49m\u001B[43m]\u001B[49m\u001B[38;5;241m*\u001B[39m(\u001B[38;5;241m1\u001B[39m\u001B[38;5;241m-\u001B[39mx[i])\u001B[38;5;241m*\u001B[39m\u001B[38;5;241m*\u001B[39m\u001B[38;5;241m2\u001B[39m\n\u001B[0;32m      6\u001B[0m \u001B[38;5;28;01mfor\u001B[39;00m k \u001B[38;5;129;01min\u001B[39;00m \u001B[38;5;28mrange\u001B[39m(\u001B[38;5;241m1\u001B[39m, nx\u001B[38;5;241m-\u001B[39m\u001B[38;5;241m1\u001B[39m):\n\u001B[0;32m      7\u001B[0m     d[k] \u001B[38;5;241m=\u001B[39m U[\u001B[38;5;241m0\u001B[39m, k] \u001B[38;5;241m+\u001B[39m t\u001B[38;5;241m/\u001B[39m\u001B[38;5;241m2\u001B[39m\u001B[38;5;241m*\u001B[39m(L(U, h, \u001B[38;5;241m0\u001B[39m, k))\n",
      "\u001B[1;31mIndexError\u001B[0m: index 100 is out of bounds for axis 0 with size 100"
     ]
    }
   ],
   "source": [
    "#Основная функция прогонки\n",
    "CoefficientMethod(a, b, c, Nt, n)\n",
    "plt.plot(U)\n",
    "plt.show()"
   ],
   "metadata": {
    "collapsed": false
   }
  },
  {
   "cell_type": "code",
   "execution_count": null,
   "outputs": [],
   "source": [],
   "metadata": {
    "collapsed": false
   }
  }
 ],
 "metadata": {
  "kernelspec": {
   "display_name": "Python 3",
   "language": "python",
   "name": "python3"
  },
  "language_info": {
   "codemirror_mode": {
    "name": "ipython",
    "version": 2
   },
   "file_extension": ".py",
   "mimetype": "text/x-python",
   "name": "python",
   "nbconvert_exporter": "python",
   "pygments_lexer": "ipython2",
   "version": "2.7.6"
  }
 },
 "nbformat": 4,
 "nbformat_minor": 0
}
