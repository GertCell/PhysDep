{
 "cells": [
  {
   "cell_type": "code",
   "execution_count": 2,
   "id": "8607cc5c",
   "metadata": {
    "scrolled": true
   },
   "outputs": [
    {
     "name": "stdout",
     "output_type": "stream",
     "text": [
      "0.01\n"
     ]
    },
    {
     "data": {
      "text/plain": "0"
     },
     "execution_count": 2,
     "metadata": {},
     "output_type": "execute_result"
    },
    {
     "data": {
      "text/plain": "<Figure size 432x288 with 1 Axes>",
      "image/png": "[encoded data removed]"
     },
     "metadata": {
      "needs_background": "light"
     },
     "output_type": "display_data"
    }
   ],
   "source": [
    "from matplotlib.pyplot import *\n",
    "import numpy as np\n",
    "%matplotlib inline\n",
    "\n",
    "a = 998\n",
    "b = 1998\n",
    "c = -999\n",
    "d = -1999\n",
    "\n",
    "fx = lambda t, x, y: a * x + b * y\n",
    "\n",
    "fy = lambda t, x, y: c * x + d * y\n",
    "\n",
    "t0 = 0\n",
    "x0 = 1\n",
    "y0 = 1\n",
    "\n",
    "X = [x0]\n",
    "Y = [y0]\n",
    "T = [t0]\n",
    "\n",
    "T_h = 1\n",
    "N = 100\n",
    "h = T_h / N\n",
    "print(h)\n",
    "\n",
    "\n",
    "\n",
    "subplot(111)\n",
    "axis([0, 1, 0, 5])\n",
    "ln1, = plot(T, X)\n",
    "\n",
    "\n",
    "\n",
    "\n",
    "def MethodKramer(f1, f2):\n",
    "    delta = (h*a-1)*(h*d - 1) - h*b*h*c\n",
    "    delta1 = -f1*(h*d - 1) + f2*h*b\n",
    "    delta2 = (h*a - 1)*(-f2) + h*c*f1\n",
    "    \n",
    "    return delta1/delta, delta2/delta\n",
    "\n",
    "\n",
    "\n",
    "def rk2():\n",
    "    \n",
    "    t = t0\n",
    "    for i in range(0,N):\n",
    "        x, y = MethodKramer(X[i], Y[i])\n",
    "        \n",
    "        t = t + h\n",
    "        T.append(t)\n",
    "        X.append(x)\n",
    "        Y.append(y)\n",
    "        \n",
    "        ln1.set_data(T, X)\n",
    "        gcf().canvas.draw()\n",
    "    return 0\n",
    "\n",
    "rk2()\n",
    "\n"
   ]
  },
  {
   "cell_type": "code",
   "execution_count": null,
   "id": "c6462f78",
   "metadata": {},
   "outputs": [],
   "source": []
  }
 ],
 "metadata": {
  "kernelspec": {
   "display_name": "Python 3 (ipykernel)",
   "language": "python",
   "name": "python3"
  },
  "language_info": {
   "codemirror_mode": {
    "name": "ipython",
    "version": 3
   },
   "file_extension": ".py",
   "mimetype": "text/x-python",
   "name": "python",
   "nbconvert_exporter": "python",
   "pygments_lexer": "ipython3",
   "version": "3.9.7"
  }
 },
 "nbformat": 4,
 "nbformat_minor": 5
}