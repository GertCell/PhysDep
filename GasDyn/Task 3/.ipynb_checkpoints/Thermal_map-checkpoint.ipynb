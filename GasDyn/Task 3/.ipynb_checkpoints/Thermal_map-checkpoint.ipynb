{
 "cells": [
  {
   "cell_type": "code",
   "execution_count": 22,
   "id": "9491df59",
   "metadata": {},
   "outputs": [
    {
     "data": {
      "text/plain": [
       "[<matplotlib.lines.Line2D at 0x1a58003ac40>]"
      ]
     },
     "execution_count": 22,
     "metadata": {},
     "output_type": "execute_result"
    },
    {
     "data": {
      "image/png": "[encoded data removed]",
      "text/plain": [
       "<Figure size 432x288 with 1 Axes>"
      ]
     },
     "metadata": {
      "needs_background": "light"
     },
     "output_type": "display_data"
    }
   ],
   "source": [
    "import numpy as np\n",
    "import matplotlib.pyplot as plt\n",
    "import time as clock\n",
    "from mpl_toolkits.mplot3d import Axes3D\n",
    "from matplotlib.animation import FuncAnimation\n",
    "%matplotlib inline\n",
    "\n",
    "N = 20 # 5 10\n",
    "P = 160 # 10 40\n",
    "k = 1/5/np.pi\n",
    "\n",
    "x = np.linspace(0, 1, N)\n",
    "y = np.linspace(0, 1, N)\n",
    "\n",
    "\n",
    "\n",
    "h = 1/(N-1)\n",
    "tau = 1/(P-1)\n",
    "\n",
    "#Temp arrays\n",
    "\n",
    "alfa = np.zeros(N)\n",
    "beta = np.zeros(N)\n",
    "\n",
    "T = np.zeros((N, N))\n",
    "T_exact = np.zeros((N, N))\n",
    "delta = np.zeros(P)\n",
    "\n",
    "# initial field\n",
    "for i in range(0, N):\n",
    "    for j in range(0, N):\n",
    "        T[i][j] = np.sin(2*np.pi*x[i])*np.sin(np.pi*y[j])\n",
    "        \n",
    "def exact(arg):\n",
    "    for i in range(0, N):\n",
    "        for j in range(0, N):\n",
    "            T_exact[i][j] = np.exp(-np.pi*arg)*np.sin(2*np.pi*x[i])*np.sin(np.pi*y[j])\n",
    "    return T_exact\n",
    "\n",
    "\n",
    "def twodim():\n",
    "    m = 0\n",
    "    for time in np.linspace(0, 1, P):\n",
    "        delta[m] = np.max(abs(T-exact(time)))\n",
    "        m += 1\n",
    "        for j in range (0, N):\n",
    "\n",
    "            alfa[0] = 0\n",
    "            beta[0] = 0\n",
    "\n",
    "            for i in range (1, N-1):\n",
    "\n",
    "                ai = k / h**2\n",
    "                bi = 2 * k / h**2 + 1 / tau\n",
    "                fi = - T[i, j] / tau\n",
    "\n",
    "                alfa[i] = ai / (bi - ai * alfa[i - 1])\n",
    "                beta[i] = (ai * beta[i - 1] - fi) / (bi - ai * alfa[i - 1])\n",
    "                \n",
    "            T[N-1, j] = 0\n",
    "            \n",
    "            for i in range (N-2, -1, -1):\n",
    "                T[i,j] = alfa[i] * T[i + 1, j] + beta[i]\n",
    "        \n",
    "                \n",
    "        for i in range(1, N-1):\n",
    "\n",
    "            alfa[0] = 0\n",
    "            beta[0] = 0\n",
    "\n",
    "            for j in range (1, N-1):\n",
    "\n",
    "                ai = k / h ** 2\n",
    "                bi = 2 * k/ h ** 2 + 1 / tau\n",
    "                fi = - T[i, j] / tau\n",
    "\n",
    "                alfa[j] = ai / (bi - ai * alfa[j - 1])\n",
    "                beta[j] = (ai * beta[j - 1] - fi) / (bi - ai * alfa[j - 1])\n",
    "            \n",
    "#             T[i, N-1] = (2.0 * k * tau * beta[N-1] + h**2 * T[i, N-1]) / (2.0 * k * tau * (1.0 - alfa[N-1]) + h**2)\n",
    "            T[i, N-1] = 0\n",
    "            \n",
    "            for j in range (N-2, -1, -1):\n",
    "                T[i, j] = alfa[j] * T[i, j + 1] + beta[j]\n",
    "                \n",
    "    return T\n",
    "\n",
    "twodim()\n",
    "\n",
    "\n",
    "# fig, ax = plt.subplots(1, 1, figsize=(10, 10), constrained_layout=True)\n",
    "       \n",
    "# p2 = ax.imshow(T, cmap='plasma', aspect='equal', interpolation='gaussian', origin=\"lower\")    \n",
    "\n",
    "# fig.colorbar(p2)\n",
    "# ax.set_title('Temperature Field')\n",
    "\n",
    "# fig.canvas.draw()\n",
    "\n",
    "plt.plot(delta)\n",
    "\n",
    "#добавить цикл в котором будет изменяться сетка и из цикла будет выписываться лишь одно значение ошибки\n",
    "#сдлеать график ошибки от времени для всех шагов"
   ]
  },
  {
   "cell_type": "code",
   "execution_count": null,
   "id": "ddd5e692",
   "metadata": {},
   "outputs": [],
   "source": []
  }
 ],
 "metadata": {
  "kernelspec": {
   "display_name": "Python 3 (ipykernel)",
   "language": "python",
   "name": "python3"
  },
  "language_info": {
   "codemirror_mode": {
    "name": "ipython",
    "version": 3
   },
   "file_extension": ".py",
   "mimetype": "text/x-python",
   "name": "python",
   "nbconvert_exporter": "python",
   "pygments_lexer": "ipython3",
   "version": "3.9.12"
  }
 },
 "nbformat": 4,
 "nbformat_minor": 5
}
