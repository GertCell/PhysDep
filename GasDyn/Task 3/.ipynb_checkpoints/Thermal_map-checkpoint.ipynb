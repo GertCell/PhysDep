{
 "cells": [
  {
   "cell_type": "code",
   "execution_count": 91,
   "id": "9491df59",
   "metadata": {},
   "outputs": [
    {
     "name": "stdout",
     "output_type": "stream",
     "text": [
      "5 10\n"
     ]
    },
    {
     "data": {
      "text/plain": [
       "(array([[ 0.        ,  0.        ,  0.        ,  0.        ,  0.        ,\n",
       "          0.        ,  0.        ,  0.        ,  0.        ,  0.        ,\n",
       "          0.        ,  0.        ,  0.        ,  0.        ,  0.        ,\n",
       "          0.        ,  0.        ,  0.        ,  0.        ,  0.        ],\n",
       "        [ 0.        ,  0.02986125,  0.04784495,  0.03943737,  0.        ,\n",
       "          0.01058795,  0.01204783,  0.01317908,  0.01395083,  0.01434205,\n",
       "          0.01434205,  0.01395083,  0.01317908,  0.01204783,  0.01058795,\n",
       "          0.00883926,  0.00684945,  0.00467282,  0.00236871,  0.        ],\n",
       "        [ 0.        ,  0.04717597,  0.07558731,  0.06230469,  0.        ,\n",
       "          0.02002853,  0.02279009,  0.02493   ,  0.02638988,  0.02712991,\n",
       "          0.02712991,  0.02638988,  0.02493   ,  0.02279009,  0.02002853,\n",
       "          0.01672065,  0.01295667,  0.00883926,  0.00448074,  0.        ],\n",
       "        [ 0.        ,  0.03826596,  0.06131132,  0.05053735,  0.        ,\n",
       "          0.02729871,  0.0310627 ,  0.03397937,  0.03596917,  0.03697783,\n",
       "          0.03697783,  0.03596917,  0.03397937,  0.0310627 ,  0.02729871,\n",
       "          0.02279009,  0.01765982,  0.01204783,  0.00610721,  0.        ],\n",
       "        [ 0.        ,  0.        ,  0.        ,  0.        ,  0.        ,\n",
       "          0.03161065,  0.03596917,  0.03934655,  0.04165065,  0.04281863,\n",
       "          0.04281863,  0.04165065,  0.03934655,  0.03596917,  0.03161065,\n",
       "          0.02638988,  0.02044926,  0.01395083,  0.00707187,  0.        ],\n",
       "        [ 0.        ,  0.00727018,  0.01434205,  0.0210227 ,  0.02712991,\n",
       "          0.03249709,  0.03697783,  0.04044991,  0.04281863,  0.04401936,\n",
       "          0.04401936,  0.04281863,  0.04044991,  0.03697783,  0.03249709,\n",
       "          0.02712991,  0.0210227 ,  0.01434205,  0.00727018,  0.        ],\n",
       "        [ 0.        ,  0.00668065,  0.01317908,  0.01931801,  0.02493   ,\n",
       "          0.02986196,  0.03397937,  0.03716991,  0.03934655,  0.04044991,\n",
       "          0.04044991,  0.03934655,  0.03716991,  0.03397937,  0.02986196,\n",
       "          0.02493   ,  0.01931801,  0.01317908,  0.00668065,  0.        ],\n",
       "        [ 0.        ,  0.00536718,  0.01058795,  0.01551991,  0.02002853,\n",
       "          0.02399083,  0.02729871,  0.02986196,  0.03161065,  0.03249709,\n",
       "          0.03249709,  0.03161065,  0.02986196,  0.02729871,  0.02399083,\n",
       "          0.02002853,  0.01551991,  0.01058795,  0.00536718,  0.        ],\n",
       "        [ 0.        ,  0.00347208,  0.00684945,  0.01003999,  0.01295667,\n",
       "          0.01551991,  0.01765982,  0.01931801,  0.02044926,  0.0210227 ,\n",
       "          0.0210227 ,  0.02044926,  0.01931801,  0.01765982,  0.01551991,\n",
       "          0.01295667,  0.01003999,  0.00684945,  0.00347208,  0.        ],\n",
       "        [ 0.        ,  0.00120073,  0.00236871,  0.00347208,  0.00448074,\n",
       "          0.00536718,  0.00610721,  0.00668065,  0.00707187,  0.00727018,\n",
       "          0.00727018,  0.00707187,  0.00668065,  0.00610721,  0.00536718,\n",
       "          0.00448074,  0.00347208,  0.00236871,  0.00120073,  0.        ],\n",
       "        [ 0.        , -0.00120073, -0.00236871, -0.00347208, -0.00448074,\n",
       "         -0.00536718, -0.00610721, -0.00668065, -0.00707187, -0.00727018,\n",
       "         -0.00727018, -0.00707187, -0.00668065, -0.00610721, -0.00536718,\n",
       "         -0.00448074, -0.00347208, -0.00236871, -0.00120073,  0.        ],\n",
       "        [ 0.        , -0.00347208, -0.00684945, -0.01003999, -0.01295667,\n",
       "         -0.01551991, -0.01765982, -0.01931801, -0.02044926, -0.0210227 ,\n",
       "         -0.0210227 , -0.02044926, -0.01931801, -0.01765982, -0.01551991,\n",
       "         -0.01295667, -0.01003999, -0.00684945, -0.00347208,  0.        ],\n",
       "        [ 0.        , -0.00536718, -0.01058795, -0.01551991, -0.02002853,\n",
       "         -0.02399083, -0.02729871, -0.02986196, -0.03161065, -0.03249709,\n",
       "         -0.03249709, -0.03161065, -0.02986196, -0.02729871, -0.02399083,\n",
       "         -0.02002853, -0.01551991, -0.01058795, -0.00536718,  0.        ],\n",
       "        [ 0.        , -0.00668065, -0.01317908, -0.01931801, -0.02493   ,\n",
       "         -0.02986196, -0.03397937, -0.03716991, -0.03934655, -0.04044991,\n",
       "         -0.04044991, -0.03934655, -0.03716991, -0.03397937, -0.02986196,\n",
       "         -0.02493   , -0.01931801, -0.01317908, -0.00668065,  0.        ],\n",
       "        [ 0.        , -0.00727018, -0.01434205, -0.0210227 , -0.02712991,\n",
       "         -0.03249709, -0.03697783, -0.04044991, -0.04281863, -0.04401936,\n",
       "         -0.04401936, -0.04281863, -0.04044991, -0.03697783, -0.03249709,\n",
       "         -0.02712991, -0.0210227 , -0.01434205, -0.00727018,  0.        ],\n",
       "        [ 0.        , -0.00707187, -0.01395083, -0.02044926, -0.02638988,\n",
       "         -0.03161065, -0.03596917, -0.03934655, -0.04165065, -0.04281863,\n",
       "         -0.04281863, -0.04165065, -0.03934655, -0.03596917, -0.03161065,\n",
       "         -0.02638988, -0.02044926, -0.01395083, -0.00707187,  0.        ],\n",
       "        [ 0.        , -0.00610721, -0.01204783, -0.01765982, -0.02279009,\n",
       "         -0.02729871, -0.0310627 , -0.03397937, -0.03596917, -0.03697783,\n",
       "         -0.03697783, -0.03596917, -0.03397937, -0.0310627 , -0.02729871,\n",
       "         -0.02279009, -0.01765982, -0.01204783, -0.00610721,  0.        ],\n",
       "        [ 0.        , -0.00448074, -0.00883926, -0.01295667, -0.01672065,\n",
       "         -0.02002853, -0.02279009, -0.02493   , -0.02638988, -0.02712991,\n",
       "         -0.02712991, -0.02638988, -0.02493   , -0.02279009, -0.02002853,\n",
       "         -0.01672065, -0.01295667, -0.00883926, -0.00448074,  0.        ],\n",
       "        [ 0.        , -0.00236871, -0.00467282, -0.00684945, -0.00883926,\n",
       "         -0.01058795, -0.01204783, -0.01317908, -0.01395083, -0.01434205,\n",
       "         -0.01434205, -0.01395083, -0.01317908, -0.01204783, -0.01058795,\n",
       "         -0.00883926, -0.00684945, -0.00467282, -0.00236871,  0.        ],\n",
       "        [ 0.        ,  0.        ,  0.        ,  0.        ,  0.        ,\n",
       "          0.        ,  0.        ,  0.        ,  0.        ,  0.        ,\n",
       "          0.        ,  0.        ,  0.        ,  0.        ,  0.        ,\n",
       "          0.        ,  0.        ,  0.        ,  0.        ,  0.        ]]),\n",
       " array([0.00110013, 0.41997609, 0.29622874, 0.20894396, 0.14737793,\n",
       "        0.10395253, 0.09650017, 0.09078317, 0.08397385, 0.07674014]))"
      ]
     },
     "execution_count": 91,
     "metadata": {},
     "output_type": "execute_result"
    },
    {
     "data": {
      "image/png": "[encoded data removed]",
      "text/plain": [
       "<Figure size 432x288 with 1 Axes>"
      ]
     },
     "metadata": {
      "needs_background": "light"
     },
     "output_type": "display_data"
    }
   ],
   "source": [
    "import numpy as np\n",
    "import matplotlib.pyplot as plt\n",
    "import time as clock\n",
    "from mpl_toolkits.mplot3d import Axes3D\n",
    "from matplotlib.animation import FuncAnimation\n",
    "%matplotlib inline\n",
    "\n",
    "\n",
    "# initial field\n",
    "def init(Nd):\n",
    "    for i in range(0, Nd):\n",
    "        for j in range(0, Nd):\n",
    "            T[i][j] = np.sin(2*np.pi*x[i])*np.sin(np.pi*y[j])\n",
    "    return T\n",
    "# exact field       \n",
    "def exact(arg, Nd):\n",
    "    for i in range(0, Nd):\n",
    "        for j in range(0, Nd):\n",
    "            T_exact[i][j] = np.exp(-np.pi*arg)*np.sin(2*np.pi*x[i])*np.sin(np.pi*y[j])\n",
    "    return T_exact\n",
    "\n",
    "\n",
    "def twodim(Nd, Pd):\n",
    "    print(Nd, Pd)\n",
    "    alfa = np.zeros(Nd)\n",
    "    beta = np.zeros(Nd)\n",
    "    delta = np.zeros(Pd)\n",
    "\n",
    "    T = np.zeros((Nd, Nd))\n",
    "    T_exact = np.zeros((Nd, Nd))\n",
    "    delta = np.zeros(Pd)\n",
    "    \n",
    "    x = np.linspace(0, 1, Nd)\n",
    "    y = np.linspace(0, 1, Nd)\n",
    "    t = np.linspace(0, 1, Pd)\n",
    "    \n",
    "    h = 1/(Nd-1)\n",
    "    tau = 1/(Pd-1)\n",
    "    \n",
    "    T = init(Nd)    \n",
    "    m = 0\n",
    "    for time in np.linspace(0, 1, Pd):\n",
    "        \n",
    "        T_exact = exact(time, Nd)\n",
    "        delta[m] = np.max(abs(T-T_exact))\n",
    "        \n",
    "        m += 1\n",
    "        for j in range (0, Nd):\n",
    "\n",
    "            alfa[0] = 0\n",
    "            beta[0] = 0\n",
    "\n",
    "            for i in range (1, Nd-1):\n",
    "\n",
    "                ai = k / h**2\n",
    "                bi = 2 * k / h**2 + 1 / tau\n",
    "                fi = - T[i, j] / tau\n",
    "\n",
    "                alfa[i] = ai / (bi - ai * alfa[i - 1])\n",
    "                beta[i] = (ai * beta[i - 1] - fi) / (bi - ai * alfa[i - 1])\n",
    "                \n",
    "            T[Nd-1, j] = 0\n",
    "            \n",
    "            for i in range (Nd-2, -1, -1):\n",
    "                T[i,j] = alfa[i] * T[i + 1, j] + beta[i]\n",
    "        \n",
    "                \n",
    "        for i in range(1, Nd-1):\n",
    "\n",
    "            alfa[0] = 0\n",
    "            beta[0] = 0\n",
    "\n",
    "            for j in range (1, Nd-1):\n",
    "\n",
    "                ai = k / h ** 2\n",
    "                bi = 2 * k/ h ** 2 + 1 / tau\n",
    "                fi = - T[i, j] / tau\n",
    "\n",
    "                alfa[j] = ai / (bi - ai * alfa[j - 1])\n",
    "                beta[j] = (ai * beta[j - 1] - fi) / (bi - ai * alfa[j - 1])\n",
    "            \n",
    "#             T[i, N-1] = (2.0 * k * tau * beta[N-1] + h**2 * T[i, N-1]) / (2.0 * k * tau * (1.0 - alfa[N-1]) + h**2)\n",
    "            T[i, Nd-1] = 0\n",
    "            \n",
    "            for j in range (Nd-2, -1, -1):\n",
    "                T[i, j] = alfa[j] * T[i, j + 1] + beta[j]\n",
    "\n",
    "    plt.plot(t, delta)  \n",
    "    return T, delta\n",
    "\n",
    "twodim(5, 10)\n",
    "\n",
    "# fig, ax = plt.subplots(1, 1, figsize=(10, 10), constrained_layout=True)\n",
    "       \n",
    "# p2 = ax.imshow(T, cmap='plasma', aspect='equal', interpolation='gaussian', origin=\"lower\")    \n",
    "\n",
    "# fig.colorbar(p2)\n",
    "# ax.set_title('Temperature Field')\n",
    "\n",
    "# fig.canvas.draw()\n",
    "\n",
    "# plt.plot(delta)\n",
    "\n",
    "#добавить цикл в котором будет изменяться сетка и из цикла будет выписываться лишь одно значение ошибки\n",
    "#сдлеать график ошибки от времени для всех шагов"
   ]
  },
  {
   "cell_type": "code",
   "execution_count": 72,
   "id": "ca6ba30f",
   "metadata": {},
   "outputs": [
    {
     "name": "stdout",
     "output_type": "stream",
     "text": [
      "5\n",
      "10\n",
      "20\n"
     ]
    }
   ],
   "source": [
    "arr = np.array([[5, 10], [10, 40], [20, 160]])\n",
    "for n in arr:\n",
    "    print(n[0])"
   ]
  },
  {
   "cell_type": "code",
   "execution_count": 93,
   "id": "ddd5e692",
   "metadata": {},
   "outputs": [
    {
     "name": "stdout",
     "output_type": "stream",
     "text": [
      "5 10\n",
      "10 40\n",
      "20 160\n"
     ]
    },
    {
     "data": {
      "text/plain": [
       "0"
      ]
     },
     "execution_count": 93,
     "metadata": {},
     "output_type": "execute_result"
    },
    {
     "data": {
      "image/png": "[encoded data removed]",
      "text/plain": [
       "<Figure size 432x288 with 1 Axes>"
      ]
     },
     "metadata": {
      "needs_background": "light"
     },
     "output_type": "display_data"
    }
   ],
   "source": [
    "\n",
    "def err():\n",
    "    arr = np.array([[5, 10, 1], [10, 40, 2], [20, 160, 3]])\n",
    "    for n in arr:\n",
    "        twodim(n[0],n[1])\n",
    "        \n",
    "        \n",
    "    return 0\n",
    "  \n",
    "err()\n"
   ]
  },
  {
   "cell_type": "code",
   "execution_count": 54,
   "id": "52ce0009",
   "metadata": {},
   "outputs": [
    {
     "data": {
      "text/plain": [
       "[<matplotlib.lines.Line2D at 0x19c16b5ba90>]"
      ]
     },
     "execution_count": 54,
     "metadata": {},
     "output_type": "execute_result"
    },
    {
     "data": {
      "image/png": "[encoded data removed]",
      "text/plain": [
       "<Figure size 432x288 with 1 Axes>"
      ]
     },
     "metadata": {
      "needs_background": "light"
     },
     "output_type": "display_data"
    }
   ],
   "source": [
    "twodim(5,20)\n",
    "plt.plot(delta)"
   ]
  },
  {
   "cell_type": "code",
   "execution_count": 55,
   "id": "5382b9d6",
   "metadata": {},
   "outputs": [
    {
     "data": {
      "text/plain": [
       "[<matplotlib.lines.Line2D at 0x19c16bc2d90>]"
      ]
     },
     "execution_count": 55,
     "metadata": {},
     "output_type": "execute_result"
    },
    {
     "data": {
      "image/png": "[encoded data removed]",
      "text/plain": [
       "<Figure size 432x288 with 1 Axes>"
      ]
     },
     "metadata": {
      "needs_background": "light"
     },
     "output_type": "display_data"
    }
   ],
   "source": [
    "twodim(10,40)\n",
    "plt.plot(delta)"
   ]
  },
  {
   "cell_type": "code",
   "execution_count": null,
   "id": "caf05c0d",
   "metadata": {},
   "outputs": [],
   "source": []
  }
 ],
 "metadata": {
  "kernelspec": {
   "display_name": "Python 3 (ipykernel)",
   "language": "python",
   "name": "python3"
  },
  "language_info": {
   "codemirror_mode": {
    "name": "ipython",
    "version": 3
   },
   "file_extension": ".py",
   "mimetype": "text/x-python",
   "name": "python",
   "nbconvert_exporter": "python",
   "pygments_lexer": "ipython3",
   "version": "3.9.7"
  }
 },
 "nbformat": 4,
 "nbformat_minor": 5
}
