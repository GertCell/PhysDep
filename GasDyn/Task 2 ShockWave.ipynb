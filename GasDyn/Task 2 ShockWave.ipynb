{
 "cells": [
  {
   "cell_type": "code",
   "execution_count": 1,
   "metadata": {
    "collapsed": true
   },
   "outputs": [],
   "source": [
    "import numpy as np\n",
    "import matplotlib.pyplot as plt\n",
    "import scipy"
   ]
  },
  {
   "cell_type": "markdown",
   "source": [
    "Зададим начальные условия для трубы"
   ],
   "metadata": {
    "collapsed": false,
    "pycharm": {
     "name": "#%% md\n"
    }
   }
  },
  {
   "cell_type": "code",
   "execution_count": 2,
   "outputs": [
    {
     "data": {
      "text/plain": "[<matplotlib.lines.Line2D at 0x2052403cb80>]"
     },
     "execution_count": 2,
     "metadata": {},
     "output_type": "execute_result"
    },
    {
     "data": {
      "text/plain": "<Figure size 432x288 with 1 Axes>",
      "image/png": "[encoded data removed]"
     },
     "metadata": {
      "needs_background": "light"
     },
     "output_type": "display_data"
    }
   ],
   "source": [
    "N = 100\n",
    "A_0 = 0.5\n",
    "X_0 = 0.5\n",
    "x = np.linspace(0, 1, N)\n",
    "A = lambda x: A_0 + (1 - A_0)*(1- x/X_0)**2\n",
    "plt.plot(x, A(x))"
   ],
   "metadata": {
    "collapsed": false,
    "pycharm": {
     "name": "#%%\n"
    }
   }
  },
  {
   "cell_type": "code",
   "execution_count": 4,
   "outputs": [],
   "source": [
    "# Left and right boundary values\n",
    "RL = 1\n",
    "UL = 1.0237498\n",
    "PL = 8\n",
    "\n",
    "RR = 0.8835893\n",
    "UR = 1.1586268\n",
    "PR = 7.0315580\n",
    "\n",
    "Gam = 1.4\n",
    "Gm1 = Gam-1"
   ],
   "metadata": {
    "collapsed": false,
    "pycharm": {
     "name": "#%%\n"
    }
   }
  },
  {
   "cell_type": "code",
   "execution_count": null,
   "outputs": [],
   "source": [
    "Q = np.array([], [])\n",
    "for i in range(0, N):\n",
    "    C_2 = x[i]\n",
    "    C_1 = 1 - C_2\n",
    "    R = C_1 * RL + C_2 * RR\n",
    "    U = C_1*UL+C_2*UR\n",
    "    P = C_1*PL+C_2*PR\n",
    "    Q[1][i] = R\n",
    "    Q[2][i] = R * U\n",
    "    Q[3][i] = P/Gm1+0.5*R*U*U\n"
   ],
   "metadata": {
    "collapsed": false,
    "pycharm": {
     "name": "#%%\n"
    }
   }
  }
 ],
 "metadata": {
  "kernelspec": {
   "display_name": "Python 3",
   "language": "python",
   "name": "python3"
  },
  "language_info": {
   "codemirror_mode": {
    "name": "ipython",
    "version": 2
   },
   "file_extension": ".py",
   "mimetype": "text/x-python",
   "name": "python",
   "nbconvert_exporter": "python",
   "pygments_lexer": "ipython2",
   "version": "2.7.6"
  }
 },
 "nbformat": 4,
 "nbformat_minor": 0
}