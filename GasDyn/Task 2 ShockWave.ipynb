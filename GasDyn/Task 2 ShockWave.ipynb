{
 "cells": [
  {
   "cell_type": "code",
   "execution_count": 2,
   "metadata": {
    "collapsed": true
   },
   "outputs": [],
   "source": [
    "import numpy as np\n",
    "import matplotlib.pyplot as plt\n",
    "import scipy"
   ]
  },
  {
   "cell_type": "markdown",
   "source": [
    "Зададим начальные условия для трубы"
   ],
   "metadata": {
    "collapsed": false
   }
  },
  {
   "cell_type": "code",
   "execution_count": 19,
   "outputs": [
    {
     "data": {
      "text/plain": "[<matplotlib.lines.Line2D at 0x231d1929c30>]"
     },
     "execution_count": 19,
     "metadata": {},
     "output_type": "execute_result"
    },
    {
     "data": {
      "text/plain": "<Figure size 640x480 with 1 Axes>",
      "image/png": "[encoded data removed]"
     },
     "metadata": {},
     "output_type": "display_data"
    }
   ],
   "source": [
    "N = 100\n",
    "A_0 = 0.5\n",
    "X_0 = 0.5\n",
    "x = np.linspace(0, 1, N)\n",
    "A = lambda x: A_0 + (1 - A_0)*(1- x/X_0)**2\n",
    "plt.plot(x, A(x))"
   ],
   "metadata": {
    "collapsed": false
   }
  },
  {
   "cell_type": "code",
   "execution_count": 20,
   "outputs": [],
   "source": [
    "\n",
    "Gam = 1.4\n",
    "Gm1 = Gam * 1e-4\n",
    "XL = 1\n",
    "Dx = XL/N\n",
    "CFL = 0.8\n",
    "TOL = 1e-4\n",
    "Xmin = 0. * XL\n",
    "Amin = 0.5"
   ],
   "metadata": {
    "collapsed": false
   }
  },
  {
   "cell_type": "code",
   "execution_count": 21,
   "outputs": [],
   "source": [
    "# Left and right boundary values\n",
    "RL = 1\n",
    "UL = 1.0237498\n",
    "PL = 8\n",
    "\n",
    "RR = 0.8835893\n",
    "UR = 1.1586268\n",
    "PR = 7.0315580\n",
    "\n",
    "Gam = 1.4\n"
   ],
   "metadata": {
    "collapsed": false
   }
  },
  {
   "cell_type": "code",
   "execution_count": 31,
   "outputs": [],
   "source": [
    "Q = np.zeros(3*N).reshape(3, N)\n",
    "F = np.zeros(3*N).reshape(3, N)\n",
    "QP = np.zeros(3*N).reshape(3, N)\n",
    "\n",
    "for i in range(0, N):\n",
    "    C_2 = x[i]\n",
    "    C_1 = 1 - C_2\n",
    "    R = C_1 * RL + C_2 * RR\n",
    "    U = C_1 * UL + C_2 * UR\n",
    "    P = C_1 * PL+C_2 * PR\n",
    "    Q[0][i] = R\n",
    "    Q[1][i] = R * U\n",
    "    Q[2][i] = P / Gm1 + 0.5 * R * U * U\n",
    "\n",
    "T = 0\n",
    "NRec = 0\n",
    "NStep = 0\n",
    "Eps = 1"
   ],
   "metadata": {
    "collapsed": false
   }
  },
  {
   "cell_type": "markdown",
   "source": [
    "\n",
    "<img src=\"Lax_task2.png\" alt=\"drawing\" width=\"700\"/>"
   ],
   "metadata": {
    "collapsed": false
   }
  },
  {
   "cell_type": "code",
   "execution_count": null,
   "outputs": [],
   "source": [],
   "metadata": {
    "collapsed": false
   }
  },
  {
   "cell_type": "code",
   "execution_count": 39,
   "outputs": [
    {
     "name": "stdout",
     "output_type": "stream",
     "text": [
      "0\n"
     ]
    },
    {
     "name": "stderr",
     "output_type": "stream",
     "text": [
      "C:\\Users\\gerts\\AppData\\Local\\Temp\\ipykernel_17360\\1092510186.py:21: RuntimeWarning: invalid value encountered in double_scalars\n",
      "  C = np.sqrt(Gam * QPn[2][i] / QPn[0][i])\n"
     ]
    },
    {
     "ename": "ZeroDivisionError",
     "evalue": "float division by zero",
     "output_type": "error",
     "traceback": [
      "\u001B[1;31m---------------------------------------------------------------------------\u001B[0m",
      "\u001B[1;31mZeroDivisionError\u001B[0m                         Traceback (most recent call last)",
      "Cell \u001B[1;32mIn [39], line 60\u001B[0m\n\u001B[0;32m     54\u001B[0m             Qn[:][i] \u001B[38;5;241m=\u001B[39m Qn[:][i]\u001B[38;5;241m/\u001B[39mA[i]\n\u001B[0;32m     58\u001B[0m         Eps \u001B[38;5;241m=\u001B[39m np\u001B[38;5;241m.\u001B[39mmax(np\u001B[38;5;241m.\u001B[39mabs((QP[\u001B[38;5;241m0\u001B[39m][:]\u001B[38;5;241m-\u001B[39mRho)\u001B[38;5;241m/\u001B[39mRho))\u001B[38;5;241m/\u001B[39mDT\n\u001B[1;32m---> 60\u001B[0m \u001B[43mlux\u001B[49m\u001B[43m(\u001B[49m\u001B[43mQ\u001B[49m\u001B[43m,\u001B[49m\u001B[43m \u001B[49m\u001B[43mQP\u001B[49m\u001B[43m,\u001B[49m\u001B[43m \u001B[49m\u001B[43mF\u001B[49m\u001B[43m)\u001B[49m\n",
      "Cell \u001B[1;32mIn [39], line 25\u001B[0m, in \u001B[0;36mlux\u001B[1;34m(Qn, QPn, F)\u001B[0m\n\u001B[0;32m     22\u001B[0m         Vmax \u001B[38;5;241m=\u001B[39m \u001B[38;5;28mmax\u001B[39m(Vmax, \u001B[38;5;28mabs\u001B[39m(QPn[\u001B[38;5;241m1\u001B[39m][i]) \u001B[38;5;241m+\u001B[39m C)\n\u001B[0;32m     23\u001B[0m     \u001B[38;5;28mprint\u001B[39m(Vmax)\n\u001B[1;32m---> 25\u001B[0m     DT \u001B[38;5;241m=\u001B[39m \u001B[43mCFL\u001B[49m\u001B[43m \u001B[49m\u001B[38;5;241;43m*\u001B[39;49m\u001B[43m \u001B[49m\u001B[43mDx\u001B[49m\u001B[43m \u001B[49m\u001B[38;5;241;43m/\u001B[39;49m\u001B[43m \u001B[49m\u001B[43mVmax\u001B[49m\n\u001B[0;32m     26\u001B[0m     DtDx \u001B[38;5;241m=\u001B[39m \u001B[38;5;241m0.5\u001B[39m \u001B[38;5;241m*\u001B[39m DT \u001B[38;5;241m/\u001B[39m Dx\n\u001B[0;32m     28\u001B[0m \u001B[38;5;66;03m#Predictor step\u001B[39;00m\n",
      "\u001B[1;31mZeroDivisionError\u001B[0m: float division by zero"
     ]
    }
   ],
   "source": [
    "def flux(Q,QP,F):\n",
    "    F[0][:] = Q[1][:]\n",
    "    F[1][:] = Q[1][:] * QP[1][:] + QP[2][:]\n",
    "    F[2][:] = (Q[2][:] + QP[2][:]) * QP[1][:]\n",
    "\n",
    "\n",
    "def Cons2Prim(Q,QP):\n",
    "    QP[0][:] = Q[0][:]\n",
    "    QP[1][:] = Q[1][:]/QP[0][:]\n",
    "    QP[2][:] = Gm1*(Q[2][:]-0.5*QP[0][:])*QP[1][:]*QP[1][:]\n",
    "\n",
    "\n",
    "#Time integration\n",
    "def lux(Qn, QPn,F):\n",
    "    Eps = 1\n",
    "    while Eps > TOL:\n",
    "\n",
    "    #Calculates available time step\n",
    "        Vmax = 0\n",
    "        for i in range(0, N):\n",
    "            C = np.sqrt(Gam * QPn[2][i] / QPn[0][i])\n",
    "            Vmax = max(Vmax, abs(QPn[1][i]) + C)\n",
    "        print(Vmax)\n",
    "\n",
    "        DT = CFL * Dx / Vmax\n",
    "        DtDx = 0.5 * DT / Dx\n",
    "\n",
    "    #Predictor step\n",
    "        Rho = QP[0][:]\n",
    "        flux(Q,QP,F)\n",
    "\n",
    "        for i in range(0, N):\n",
    "            S = 0\n",
    "            PS = 0.5*(QP[2][i-1]+QP[2][i])\n",
    "            AS = 0.5*(A[i-1]+A[i])\n",
    "            dAdx = (A[i]-A[i-1])\n",
    "            S[1] = S[1]+PS*dAdx\n",
    "            Qn[:][i] = 0.5*(A[i-1]*Q[:][i-1]+A[i]*Q[:][i])+ DtDx*(A[i-1]*F[:][i-1]-A[i]*F[:][i]+S)\n",
    "            Qn[:][i] = Qn[:][i]/AS\n",
    "\n",
    "\n",
    "        Cons2Prim(Qn,QPn)\n",
    "\n",
    "    #Corrector step\n",
    "        flux(Qn,QPn,F)\n",
    "        for i in range(0, N-1):\n",
    "            S = 0\n",
    "            PS = 0.5*(QPn[2][i]+QPn[2][i+1])\n",
    "            A1 = 0.5*(A[i-1]+A[i])\n",
    "            A2 = 0.5*(A[i]+A[i+1])\n",
    "            dAdx = 0.5*(A[i+1]-A[i-1])\n",
    "            S[1] = S[1]+PS*dAdx\n",
    "            Q[:][i] = 0.5*(A1*Qn[:][i]+A2*Qn[:][i+1]) + DtDx*(A1*F[:][i]-A2*F[:][i+1]+S)\n",
    "            Qn[:][i] = Qn[:][i]/A[i]\n",
    "\n",
    "\n",
    "\n",
    "        Eps = np.max(np.abs((QP[0][:]-Rho)/Rho))/DT\n",
    "\n",
    "lux(Q, QP, F)"
   ],
   "metadata": {
    "collapsed": false
   }
  },
  {
   "cell_type": "code",
   "execution_count": 30,
   "outputs": [
    {
     "name": "stdout",
     "output_type": "stream",
     "text": [
      "100 [[0. 0. 0. 0. 0. 0. 0. 0. 0. 0. 0. 0. 0. 0. 0. 0. 0. 0. 0. 0. 0. 0. 0. 0.\n",
      "  0. 0. 0. 0. 0. 0. 0. 0. 0. 0. 0. 0. 0. 0. 0. 0. 0. 0. 0. 0. 0. 0. 0. 0.\n",
      "  0. 0. 0. 0. 0. 0. 0. 0. 0. 0. 0. 0. 0. 0. 0. 0. 0. 0. 0. 0. 0. 0. 0. 0.\n",
      "  0. 0. 0. 0. 0. 0. 0. 0. 0. 0. 0. 0. 0. 0. 0. 0. 0. 0. 0. 0. 0. 0. 0. 0.\n",
      "  0. 0. 0. 0.]\n",
      " [1. 1. 1. 1. 1. 1. 1. 1. 1. 1. 1. 1. 1. 1. 1. 1. 1. 1. 1. 1. 1. 1. 1. 1.\n",
      "  1. 1. 1. 1. 1. 1. 1. 1. 1. 1. 1. 1. 1. 1. 1. 1. 1. 1. 1. 1. 1. 1. 1. 1.\n",
      "  1. 1. 1. 1. 1. 1. 1. 1. 1. 1. 1. 1. 1. 1. 1. 1. 1. 1. 1. 1. 1. 1. 1. 1.\n",
      "  1. 1. 1. 1. 1. 1. 1. 1. 1. 1. 1. 1. 1. 1. 1. 1. 1. 1. 1. 1. 1. 1. 1. 1.\n",
      "  1. 1. 1. 1.]\n",
      " [0. 0. 0. 0. 0. 0. 0. 0. 0. 0. 0. 0. 0. 0. 0. 0. 0. 0. 0. 0. 0. 0. 0. 0.\n",
      "  0. 0. 0. 0. 0. 0. 0. 0. 0. 0. 0. 0. 0. 0. 0. 0. 0. 0. 0. 0. 0. 0. 0. 0.\n",
      "  0. 0. 0. 0. 0. 0. 0. 0. 0. 0. 0. 0. 0. 0. 0. 0. 0. 0. 0. 0. 0. 0. 0. 0.\n",
      "  0. 0. 0. 0. 0. 0. 0. 0. 0. 0. 0. 0. 0. 0. 0. 0. 0. 0. 0. 0. 0. 0. 0. 0.\n",
      "  0. 0. 0. 0.]]\n"
     ]
    }
   ],
   "source": [
    "plt.plot(Q)"
   ],
   "metadata": {
    "collapsed": false
   }
  },
  {
   "cell_type": "code",
   "execution_count": null,
   "outputs": [],
   "source": [],
   "metadata": {
    "collapsed": false
   }
  }
 ],
 "metadata": {
  "kernelspec": {
   "display_name": "Python 3",
   "language": "python",
   "name": "python3"
  },
  "language_info": {
   "codemirror_mode": {
    "name": "ipython",
    "version": 2
   },
   "file_extension": ".py",
   "mimetype": "text/x-python",
   "name": "python",
   "nbconvert_exporter": "python",
   "pygments_lexer": "ipython2",
   "version": "2.7.6"
  }
 },
 "nbformat": 4,
 "nbformat_minor": 0
}
